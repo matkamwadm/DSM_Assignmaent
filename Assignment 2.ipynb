{
 "cells": [
  {
   "cell_type": "markdown",
   "id": "607122fc-5dd5-451f-b905-25869cd226b4",
   "metadata": {},
   "source": [
    "Q1. How do you comment code in Python? What are the different types of comments?\n",
    "\n",
    "Ans- the comment is that line to help programmer understand code. when during the exicution commeted lines are ignor by interpreter.  \n",
    "using the Hash (#) can comment the line.\n",
    "     there are three types of comments.\n",
    "      1)single line(#)\n",
    "      2)multiline ('''  ''')\n",
    "      3) docstring (\"\"\"  \"\"\")"
   ]
  },
  {
   "cell_type": "markdown",
   "id": "c212c07f-be53-421a-b4e0-2ac9691429f5",
   "metadata": {},
   "source": [
    "Q2. What are variables in Python? How do you declare and assign values to variables?\n",
    "\n",
    "Ans- Variables that are store a value.Declare by specific alphabhetical word. assing in form string,int,float etc. "
   ]
  },
  {
   "cell_type": "markdown",
   "id": "8ab204bb-a399-4fc3-9a65-e370eb8fdcec",
   "metadata": {},
   "source": [
    "Q3. How do you convert one data type to another in Python?\n",
    "\n",
    "\n",
    "Ans- using str(),float(), int()"
   ]
  },
  {
   "cell_type": "markdown",
   "id": "d7cd91b4-dc86-434f-a7f9-e31056a4c032",
   "metadata": {},
   "source": [
    "Q4. How do you write and execute a Python script from the command line?\n",
    "\n",
    "Ans- Start jupyter notebook write code and execute"
   ]
  },
  {
   "cell_type": "markdown",
   "id": "1f3ecbec-4f82-41a4-98de-632944ad7569",
   "metadata": {},
   "source": [
    "Q5.Given a list my_list = [1, 2, 3, 4, 5], write the code to slice the list and obtain the sub-list [2, 3]."
   ]
  },
  {
   "cell_type": "code",
   "execution_count": 1,
   "id": "117bdfc0-7cc4-48cc-80de-3279e412b978",
   "metadata": {},
   "outputs": [
    {
     "name": "stdout",
     "output_type": "stream",
     "text": [
      "[2, 3]\n"
     ]
    }
   ],
   "source": [
    "my_list = [1,2,3,4,5]\n",
    "sub_list = my_list[1:3]\n",
    "print (sub_list)"
   ]
  },
  {
   "cell_type": "markdown",
   "id": "9daeb816-4193-4b1a-9d36-5ab6608a1675",
   "metadata": {},
   "source": [
    "Q6. What is a complex number in mathematics, and how is it represented in Python?\n"
   ]
  },
  {
   "cell_type": "code",
   "execution_count": 2,
   "id": "a779a2f7-d126-4c9c-ab68-6259221e26c4",
   "metadata": {},
   "outputs": [],
   "source": [
    "l1 = 4-5j"
   ]
  },
  {
   "cell_type": "code",
   "execution_count": 3,
   "id": "bb2aff72-c577-4d80-9ab6-6b8587d973f1",
   "metadata": {},
   "outputs": [
    {
     "data": {
      "text/plain": [
       "complex"
      ]
     },
     "execution_count": 3,
     "metadata": {},
     "output_type": "execute_result"
    }
   ],
   "source": [
    "type(l1)"
   ]
  },
  {
   "cell_type": "code",
   "execution_count": 5,
   "id": "424adfd0-6fc3-46e7-8464-cd535dfdacd0",
   "metadata": {},
   "outputs": [
    {
     "data": {
      "text/plain": [
       "4.0"
      ]
     },
     "execution_count": 5,
     "metadata": {},
     "output_type": "execute_result"
    }
   ],
   "source": [
    "l1.real"
   ]
  },
  {
   "cell_type": "code",
   "execution_count": 8,
   "id": "a7890d5a-828e-4ae3-a12c-c9c1dea3c911",
   "metadata": {},
   "outputs": [
    {
     "data": {
      "text/plain": [
       "-5.0"
      ]
     },
     "execution_count": 8,
     "metadata": {},
     "output_type": "execute_result"
    }
   ],
   "source": [
    "l1.imag"
   ]
  },
  {
   "cell_type": "markdown",
   "id": "9dbc7d55-14fd-426f-a980-9e1369207955",
   "metadata": {},
   "source": [
    "Q7. What is the correct way to declare a variable named age and assign the value 25 to it?"
   ]
  },
  {
   "cell_type": "code",
   "execution_count": 9,
   "id": "6fc059bd-c505-45c9-a31c-2372d39ab30c",
   "metadata": {},
   "outputs": [
    {
     "name": "stdout",
     "output_type": "stream",
     "text": [
      "Age : 25\n"
     ]
    }
   ],
   "source": [
    "age = 25 \n",
    "print(f\"Age : {age}\")"
   ]
  },
  {
   "cell_type": "markdown",
   "id": "56db1ec6-e329-4e16-9533-d6970a40207a",
   "metadata": {},
   "source": [
    "Q8. Declare a variable named price and assign the value 9.99 to it. What data type does this variable\n",
    "belong to?"
   ]
  },
  {
   "cell_type": "code",
   "execution_count": 10,
   "id": "92458984-99f4-4213-9a97-df58f3d2b0bb",
   "metadata": {},
   "outputs": [],
   "source": [
    "price = 9.99"
   ]
  },
  {
   "cell_type": "code",
   "execution_count": 11,
   "id": "dbbbcebb-612e-47b6-8ecc-828802b5f506",
   "metadata": {},
   "outputs": [
    {
     "data": {
      "text/plain": [
       "9.99"
      ]
     },
     "execution_count": 11,
     "metadata": {},
     "output_type": "execute_result"
    }
   ],
   "source": [
    "price"
   ]
  },
  {
   "cell_type": "code",
   "execution_count": 12,
   "id": "25c572f5-78e8-4224-beb0-71208de630b7",
   "metadata": {},
   "outputs": [
    {
     "data": {
      "text/plain": [
       "float"
      ]
     },
     "execution_count": 12,
     "metadata": {},
     "output_type": "execute_result"
    }
   ],
   "source": [
    "type(price)"
   ]
  },
  {
   "cell_type": "markdown",
   "id": "b3853f95-b7f4-4af4-b100-efc80fcd40fc",
   "metadata": {},
   "source": [
    "Q9.Create a variable named name and assign your full name to it as a string. How would you print the\n",
    "value of this variable?"
   ]
  },
  {
   "cell_type": "code",
   "execution_count": 13,
   "id": "4b4feb0b-fb3a-4159-8a58-703038f70d81",
   "metadata": {},
   "outputs": [],
   "source": [
    "name = \"david jones\""
   ]
  },
  {
   "cell_type": "code",
   "execution_count": null,
   "id": "85078d95-457d-4631-9160-15a1e3b05eff",
   "metadata": {},
   "outputs": [],
   "source": []
  },
  {
   "cell_type": "code",
   "execution_count": null,
   "id": "cb8359b4-6bbf-4afe-a8f7-0beed33e625a",
   "metadata": {},
   "outputs": [],
   "source": []
  },
  {
   "cell_type": "code",
   "execution_count": 14,
   "id": "5190c6d6-91d1-499a-b0d7-c19a6baf0795",
   "metadata": {},
   "outputs": [
    {
     "data": {
      "text/plain": [
       "'Ganesh Gadkari'"
      ]
     },
     "execution_count": 14,
     "metadata": {},
     "output_type": "execute_result"
    }
   ],
   "source": [
    "name"
   ]
  },
  {
   "cell_type": "code",
   "execution_count": 15,
   "id": "2417ce9f-66ec-4232-baca-f30d520f4fe5",
   "metadata": {},
   "outputs": [
    {
     "data": {
      "text/plain": [
       "str"
      ]
     },
     "execution_count": 15,
     "metadata": {},
     "output_type": "execute_result"
    }
   ],
   "source": [
    "type(\"name\")"
   ]
  },
  {
   "cell_type": "markdown",
   "id": "9fe9c458-7665-48b7-bea1-c8b82feda7f0",
   "metadata": {},
   "source": [
    "Q10. Given the string \"Hello, World!\", extract the substring \"World\"."
   ]
  },
  {
   "cell_type": "code",
   "execution_count": 20,
   "id": "0825a7ee-8d6a-4182-ad31-96c2baf0634a",
   "metadata": {},
   "outputs": [],
   "source": [
    "l1 = \"Hello, World!\""
   ]
  },
  {
   "cell_type": "code",
   "execution_count": 21,
   "id": "c96256d0-abbf-4ada-8c3d-16e2d46a15d6",
   "metadata": {},
   "outputs": [
    {
     "data": {
      "text/plain": [
       "13"
      ]
     },
     "execution_count": 21,
     "metadata": {},
     "output_type": "execute_result"
    }
   ],
   "source": [
    "len(l1)"
   ]
  },
  {
   "cell_type": "code",
   "execution_count": 22,
   "id": "76f8dd74-0f85-4b42-a188-d45cacb0fc4e",
   "metadata": {},
   "outputs": [],
   "source": [
    "l2 = l1[7:12]"
   ]
  },
  {
   "cell_type": "code",
   "execution_count": 23,
   "id": "84aa9876-4b1a-4c2f-8f90-fc281c342f01",
   "metadata": {},
   "outputs": [
    {
     "data": {
      "text/plain": [
       "'World'"
      ]
     },
     "execution_count": 23,
     "metadata": {},
     "output_type": "execute_result"
    }
   ],
   "source": [
    "l2"
   ]
  },
  {
   "cell_type": "markdown",
   "id": "f5761eea-320d-47bc-bab7-94b2cb8dec42",
   "metadata": {},
   "source": [
    "Q11. Create a variable named \"is_student\" and assign it a boolean value indicating whether you are\n",
    "currently a student or not."
   ]
  },
  {
   "cell_type": "code",
   "execution_count": 24,
   "id": "ed57e8d8-4cdb-4375-a2e1-39b70e3d57f3",
   "metadata": {},
   "outputs": [],
   "source": [
    "is_student = True"
   ]
  },
  {
   "cell_type": "code",
   "execution_count": 25,
   "id": "aa7565b4-c44f-440b-a84b-1eb2ae28c693",
   "metadata": {},
   "outputs": [
    {
     "data": {
      "text/plain": [
       "bool"
      ]
     },
     "execution_count": 25,
     "metadata": {},
     "output_type": "execute_result"
    }
   ],
   "source": [
    "type(is_student)"
   ]
  },
  {
   "cell_type": "code",
   "execution_count": null,
   "id": "f63624d7-001b-404a-9a1e-e97c62821b4c",
   "metadata": {},
   "outputs": [],
   "source": []
  }
 ],
 "metadata": {
  "kernelspec": {
   "display_name": "Python 3 (ipykernel)",
   "language": "python",
   "name": "python3"
  },
  "language_info": {
   "codemirror_mode": {
    "name": "ipython",
    "version": 3
   },
   "file_extension": ".py",
   "mimetype": "text/x-python",
   "name": "python",
   "nbconvert_exporter": "python",
   "pygments_lexer": "ipython3",
   "version": "3.10.8"
  }
 },
 "nbformat": 4,
 "nbformat_minor": 5
}
