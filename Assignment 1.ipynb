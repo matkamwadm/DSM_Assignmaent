{
 "cells": [
  {
   "cell_type": "markdown",
   "id": "70672a84-b86b-4a5a-a94a-68936c3fdb02",
   "metadata": {},
   "source": [
    "Q1. Create one variable containing following type of data:\n",
    "(i) string\n",
    "(ii) list\n",
    "(iii) float\n",
    "(iv) tuple"
   ]
  },
  {
   "cell_type": "markdown",
   "id": "3f305002-4b40-435d-88f3-4285b6e69700",
   "metadata": {},
   "source": [
    "(i) string"
   ]
  },
  {
   "cell_type": "code",
   "execution_count": 1,
   "id": "694b7e8c-c45e-4488-86ff-dcd7ed0e0ccf",
   "metadata": {},
   "outputs": [
    {
     "data": {
      "text/plain": [
       "'xyz'"
      ]
     },
     "execution_count": 1,
     "metadata": {},
     "output_type": "execute_result"
    }
   ],
   "source": [
    "string = \"xyz\"\n",
    "string"
   ]
  },
  {
   "cell_type": "code",
   "execution_count": 2,
   "id": "43b16734-8c11-4a2d-ac28-c37a56c3bae5",
   "metadata": {},
   "outputs": [
    {
     "data": {
      "text/plain": [
       "str"
      ]
     },
     "execution_count": 2,
     "metadata": {},
     "output_type": "execute_result"
    }
   ],
   "source": [
    "type(string)"
   ]
  },
  {
   "cell_type": "markdown",
   "id": "8d563536-91bb-46f5-8e44-81deb840eb19",
   "metadata": {},
   "source": [
    "(ii) list"
   ]
  },
  {
   "cell_type": "code",
   "execution_count": 3,
   "id": "da82d684-e17a-49df-b1f8-80e625869822",
   "metadata": {},
   "outputs": [
    {
     "data": {
      "text/plain": [
       "[1, 2, 5, 3, 6, 'xyz', 99.99, True]"
      ]
     },
     "execution_count": 3,
     "metadata": {},
     "output_type": "execute_result"
    }
   ],
   "source": [
    "list = [1,2,5,3,6,\"xyz\",99.99,True]\n",
    "list"
   ]
  },
  {
   "cell_type": "code",
   "execution_count": 4,
   "id": "b0de722e-c23a-4e1c-af60-0f309de12a91",
   "metadata": {},
   "outputs": [
    {
     "data": {
      "text/plain": [
       "list"
      ]
     },
     "execution_count": 4,
     "metadata": {},
     "output_type": "execute_result"
    }
   ],
   "source": [
    "type(list)"
   ]
  },
  {
   "cell_type": "markdown",
   "id": "7f679aad-f60c-4936-b81b-35e67c884528",
   "metadata": {},
   "source": [
    "(iii) float"
   ]
  },
  {
   "cell_type": "code",
   "execution_count": 5,
   "id": "d9a628d9-3d30-4eed-aeb3-818d3275e191",
   "metadata": {},
   "outputs": [
    {
     "data": {
      "text/plain": [
       "23.65"
      ]
     },
     "execution_count": 5,
     "metadata": {},
     "output_type": "execute_result"
    }
   ],
   "source": [
    "float = 23.65\n",
    "float"
   ]
  },
  {
   "cell_type": "code",
   "execution_count": 6,
   "id": "413efc64-48a7-475b-a1a5-e90c33b5f571",
   "metadata": {},
   "outputs": [
    {
     "data": {
      "text/plain": [
       "float"
      ]
     },
     "execution_count": 6,
     "metadata": {},
     "output_type": "execute_result"
    }
   ],
   "source": [
    "type(float)"
   ]
  },
  {
   "cell_type": "markdown",
   "id": "baf3707e-9aac-4336-9884-d911215fc69c",
   "metadata": {},
   "source": [
    "(iv) tuple"
   ]
  },
  {
   "cell_type": "code",
   "execution_count": 7,
   "id": "d452b49e-30ba-4704-8066-ad3ba5ca8101",
   "metadata": {},
   "outputs": [
    {
     "data": {
      "text/plain": [
       "('apple', 'banana', 'mango')"
      ]
     },
     "execution_count": 7,
     "metadata": {},
     "output_type": "execute_result"
    }
   ],
   "source": [
    "tuple = (\"apple\",\"banana\",\"mango\")\n",
    "tuple"
   ]
  },
  {
   "cell_type": "code",
   "execution_count": 8,
   "id": "1e320fc0-6806-449f-9cc1-83d7a8c9e766",
   "metadata": {},
   "outputs": [
    {
     "data": {
      "text/plain": [
       "tuple"
      ]
     },
     "execution_count": 8,
     "metadata": {},
     "output_type": "execute_result"
    }
   ],
   "source": [
    "type(tuple)"
   ]
  },
  {
   "cell_type": "markdown",
   "id": "5a2c23d3-7b81-4870-8e65-a6d1f4304747",
   "metadata": {},
   "source": [
    "Q2.Given are some following variables containing data:\n",
    "    (i) var1 = ‘ ‘\n",
    "    (ii) var2 = ‘[ DS , ML , Python]’\n",
    "    (iii) var3 = [ ‘DS’ , ’ML’ , ‘Python’ ]\n",
    "    (iv) var4 = 1.\n",
    "What will be the data type of the above given variable."
   ]
  },
  {
   "cell_type": "markdown",
   "id": "69376906-fd94-44eb-b102-79971c551d63",
   "metadata": {},
   "source": [
    "1. var1 = ‘ ‘"
   ]
  },
  {
   "cell_type": "markdown",
   "id": "3d2efa08-b18e-4adc-9f73-81d45f484212",
   "metadata": {},
   "source": [
    "String"
   ]
  },
  {
   "cell_type": "markdown",
   "id": "245ea6ee-90b7-47c6-b8bc-62c90e03024a",
   "metadata": {},
   "source": [
    "2) var2 = ‘[ DS , ML , Python]’\n",
    "\n",
    "String"
   ]
  },
  {
   "cell_type": "markdown",
   "id": "a2daa9b5-aea0-40e1-90ef-6e476a558e03",
   "metadata": {},
   "source": [
    "3) var3 = [ ‘DS’ , ’ML’ , ‘Python’ ]\n",
    "\n",
    "\n",
    "List\n"
   ]
  },
  {
   "cell_type": "markdown",
   "id": "f89ea3a5-8383-4078-93b4-5ea0f24cd587",
   "metadata": {},
   "source": [
    "4) var4 = 1.\n",
    "\n",
    "Float"
   ]
  },
  {
   "cell_type": "markdown",
   "id": "1b2b46a1-d4c8-4f25-81e1-46ed5285206c",
   "metadata": {},
   "source": [
    "Q3. Explain the use of the following operators using an example:\n",
    "(i) /\n",
    "(ii) %\n",
    "(iii) //\n",
    "(iv) **"
   ]
  },
  {
   "cell_type": "markdown",
   "id": "97e7f659-01a2-47b9-a2e6-83642dc5860e",
   "metadata": {},
   "source": [
    "(i) / - division"
   ]
  },
  {
   "cell_type": "code",
   "execution_count": 9,
   "id": "d11c6019-a6c4-4709-947c-5ec6b6a83949",
   "metadata": {},
   "outputs": [
    {
     "data": {
      "text/plain": [
       "0.5"
      ]
     },
     "execution_count": 9,
     "metadata": {},
     "output_type": "execute_result"
    }
   ],
   "source": [
    "2/4"
   ]
  },
  {
   "cell_type": "markdown",
   "id": "817fdbad-3d24-4a30-91d8-4f3ff0e69a14",
   "metadata": {},
   "source": [
    "(ii) % - Modulas "
   ]
  },
  {
   "cell_type": "code",
   "execution_count": 10,
   "id": "6e97e3ce-51ad-4d3c-b95b-335d930ae459",
   "metadata": {},
   "outputs": [
    {
     "data": {
      "text/plain": [
       "1"
      ]
     },
     "execution_count": 10,
     "metadata": {},
     "output_type": "execute_result"
    }
   ],
   "source": [
    "5%4"
   ]
  },
  {
   "cell_type": "markdown",
   "id": "d389e627-6093-4f1e-8a85-71ff1bad2e97",
   "metadata": {},
   "source": [
    "(iii) // - floor division "
   ]
  },
  {
   "cell_type": "code",
   "execution_count": 11,
   "id": "319d6f98-fc17-4778-8af8-afc227dd11cd",
   "metadata": {},
   "outputs": [
    {
     "data": {
      "text/plain": [
       "3"
      ]
     },
     "execution_count": 11,
     "metadata": {},
     "output_type": "execute_result"
    }
   ],
   "source": [
    "10//3\n"
   ]
  },
  {
   "cell_type": "markdown",
   "id": "49665aec-d58d-4804-8da9-27e1d2a0df31",
   "metadata": {},
   "source": [
    "(iv) ** - exponentiation"
   ]
  },
  {
   "cell_type": "code",
   "execution_count": 12,
   "id": "307b5c70-3c4b-40bd-b61d-ee1c5fbbb747",
   "metadata": {},
   "outputs": [
    {
     "data": {
      "text/plain": [
       "8"
      ]
     },
     "execution_count": 12,
     "metadata": {},
     "output_type": "execute_result"
    }
   ],
   "source": [
    "2**3\n"
   ]
  },
  {
   "cell_type": "markdown",
   "id": "bb2896f3-e33c-4edd-8c5a-33c05f1572de",
   "metadata": {},
   "source": [
    "Q4. Create a list of length 10 of your choice containing multiple types of data. Using for loop print the\n",
    "element and its data type."
   ]
  },
  {
   "cell_type": "code",
   "execution_count": 13,
   "id": "3d7bdbc4-dd98-491c-9a0f-575f0c609b93",
   "metadata": {},
   "outputs": [
    {
     "name": "stdout",
     "output_type": "stream",
     "text": [
      "10 <class 'int'>\n",
      "Hello <class 'str'>\n",
      "3.14 <class 'float'>\n",
      "True <class 'bool'>\n",
      "[1, 2, 3] <class 'list'>\n",
      "{'name': 'John', 'age': 25} <class 'dict'>\n",
      "(4, 5, 6) <class 'tuple'>\n",
      "None <class 'NoneType'>\n",
      "(5+2j) <class 'complex'>\n",
      "False <class 'bool'>\n"
     ]
    }
   ],
   "source": [
    "my_list = [10, \"Hello\", 3.14, True, [1, 2, 3], {\"name\": \"John\", \"age\": 25}, (4, 5, 6), None, 5+2j, False]\n",
    "\n",
    "for element in my_list:\n",
    "    print(element, type(element)) "
   ]
  },
  {
   "cell_type": "markdown",
   "id": "856cd1ba-b7de-4c47-befb-d05e8d531d8a",
   "metadata": {},
   "source": [
    "Q5. Using a while loop, verify if the number A is purely divisible by number B and if so then how many\n",
    "times it can be divisible."
   ]
  },
  {
   "cell_type": "code",
   "execution_count": 14,
   "id": "d7f304c4-f8bf-4ea9-b847-83bc25a61632",
   "metadata": {},
   "outputs": [
    {
     "name": "stdout",
     "output_type": "stream",
     "text": [
      "8.0 is divisible by 3 and can be divided 1 times.\n"
     ]
    }
   ],
   "source": [
    "a = 24\n",
    "b = 3\n",
    "count = 0\n",
    "while a % b == 0:\n",
    "    a /= b\n",
    "    count += 1\n",
    "if count > 0:\n",
    "    print(f\"{a} is divisible by {b} and can be divided {count} times.\")\n",
    "else:\n",
    "    print(f\"{a} is not divisible by {b}.\")"
   ]
  },
  {
   "cell_type": "markdown",
   "id": "efab0697-47fa-492d-85a7-a82fbea02977",
   "metadata": {},
   "source": [
    "Q6. Create a list containing 25 int type data. Using for loop and if-else condition print if the element is\n",
    "divisible by 3 or not."
   ]
  },
  {
   "cell_type": "code",
   "execution_count": 16,
   "id": "e28f4413-24d8-450d-a12a-e0de857b5390",
   "metadata": {},
   "outputs": [
    {
     "name": "stdout",
     "output_type": "stream",
     "text": [
      "1 is not divisible by 3.\n",
      "2 is not divisible by 3.\n",
      "3 is divisible by 3.\n",
      "5 is not divisible by 3.\n",
      "18 is divisible by 3.\n",
      "4 is not divisible by 3.\n",
      "8 is not divisible by 3.\n",
      "9 is divisible by 3.\n",
      "7 is not divisible by 3.\n",
      "5 is not divisible by 3.\n",
      "34 is not divisible by 3.\n",
      "67 is not divisible by 3.\n",
      "45 is divisible by 3.\n",
      "67 is not divisible by 3.\n",
      "35 is not divisible by 3.\n",
      "86 is not divisible by 3.\n",
      "53 is not divisible by 3.\n",
      "89 is not divisible by 3.\n",
      "35 is not divisible by 3.\n",
      "23 is not divisible by 3.\n",
      "12 is divisible by 3.\n",
      "16 is not divisible by 3.\n",
      "54 is divisible by 3.\n",
      "98 is not divisible by 3.\n",
      "65 is not divisible by 3.\n"
     ]
    }
   ],
   "source": [
    "a = [1,2,3,5,18,4,8,9,7,5,34,67,45,67,35,86,53,89,35,23,12,16,54,98,65]\n",
    "for i in a :\n",
    "    if i % 3 == 0:\n",
    "        print(f\"{i} is divisible by 3.\")\n",
    "    else:\n",
    "        print(f\"{i} is not divisible by 3.\")\n",
    "    "
   ]
  },
  {
   "cell_type": "markdown",
   "id": "e6bc747e-2e78-4499-a97d-c06911fe82fd",
   "metadata": {},
   "source": [
    "Q7. What do you understand about mutable and immutable data types? Give examples for both showing\n",
    "this property."
   ]
  },
  {
   "cell_type": "markdown",
   "id": "04aebe76-358e-4f13-8ce4-0d0ca2a72438",
   "metadata": {},
   "source": [
    "Mutable data :\n",
    "    Mutable data refers to a database structure in which data can be changed or modified. There are basically 3 mutable data types in Python: List, Dictionary, And Set.\n",
    "Immutable data :\n",
    "    Immutable data refers to a database structure in which data can not be changed or modified."
   ]
  },
  {
   "cell_type": "code",
   "execution_count": 17,
   "id": "173be424-bdf9-475a-8aa5-a9f9cb35f94b",
   "metadata": {},
   "outputs": [
    {
     "name": "stdout",
     "output_type": "stream",
     "text": [
      "Hello\n",
      "Hello World\n"
     ]
    }
   ],
   "source": [
    "a = \"Hello\"\n",
    "print(a)  # Output : Hello\n",
    "\n",
    "a += \" World\"\n",
    "print(a)  #Output : Hello World\n"
   ]
  },
  {
   "cell_type": "code",
   "execution_count": 18,
   "id": "47c4010d-6a0b-4f25-b976-3f15e34f52e3",
   "metadata": {},
   "outputs": [
    {
     "name": "stdout",
     "output_type": "stream",
     "text": [
      "[1, 2, 3]\n",
      "[1, 2, 3, 4]\n"
     ]
    }
   ],
   "source": [
    "int = [1, 2, 3]\n",
    "print(int)  # Output: [1, 2, 3]\n",
    "\n",
    "int.append(4)\n",
    "print(int)  # Output: [1, 2, 3, 4]"
   ]
  },
  {
   "cell_type": "code",
   "execution_count": null,
   "id": "965ec9af-7b70-4a95-841e-539bf1f1627b",
   "metadata": {},
   "outputs": [],
   "source": []
  }
 ],
 "metadata": {
  "kernelspec": {
   "display_name": "Python 3 (ipykernel)",
   "language": "python",
   "name": "python3"
  },
  "language_info": {
   "codemirror_mode": {
    "name": "ipython",
    "version": 3
   },
   "file_extension": ".py",
   "mimetype": "text/x-python",
   "name": "python",
   "nbconvert_exporter": "python",
   "pygments_lexer": "ipython3",
   "version": "3.10.8"
  }
 },
 "nbformat": 4,
 "nbformat_minor": 5
}
